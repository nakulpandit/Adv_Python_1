{
 "cells": [
  {
   "cell_type": "code",
   "execution_count": 40,
   "metadata": {},
   "outputs": [],
   "source": [
    "from warnings import filterwarnings\n",
    "filterwarnings(\"ignore\")"
   ]
  },
  {
   "cell_type": "code",
   "execution_count": 41,
   "metadata": {},
   "outputs": [],
   "source": [
    "class Person:\n",
    "\n",
    "    def __init__ (self, name: str, age: int):\n",
    "        self.name = name\n",
    "        self.age  = age\n",
    "\n",
    "    def introduce(self):\n",
    "        print(f\"My name is : {self.name}\")\n",
    "        print(f\"I am {self.age} years old\")"
   ]
  },
  {
   "cell_type": "code",
   "execution_count": 42,
   "metadata": {},
   "outputs": [],
   "source": [
    "class Employe(Person):\n",
    "\n",
    "    def __init__(self, name: str, age: int, company: str):\n",
    "        super().__init__(name, age)\n",
    "        self.company = company\n",
    "\n",
    "    def work(self):\n",
    "        print(f\"I work at {self.company}\")"
   ]
  },
  {
   "cell_type": "code",
   "execution_count": 43,
   "metadata": {},
   "outputs": [
    {
     "data": {
      "text/plain": [
       "__main__.Person"
      ]
     },
     "execution_count": 43,
     "metadata": {},
     "output_type": "execute_result"
    }
   ],
   "source": [
    "p1 = Person(name=\"abcsdf\", age=12)\n",
    "type(p1)"
   ]
  },
  {
   "cell_type": "code",
   "execution_count": 44,
   "metadata": {},
   "outputs": [
    {
     "data": {
      "text/plain": [
       "'abcsdf'"
      ]
     },
     "execution_count": 44,
     "metadata": {},
     "output_type": "execute_result"
    }
   ],
   "source": [
    "p1.name"
   ]
  },
  {
   "cell_type": "code",
   "execution_count": 45,
   "metadata": {},
   "outputs": [
    {
     "data": {
      "text/plain": [
       "12"
      ]
     },
     "execution_count": 45,
     "metadata": {},
     "output_type": "execute_result"
    }
   ],
   "source": [
    "p1.age"
   ]
  },
  {
   "cell_type": "code",
   "execution_count": 46,
   "metadata": {},
   "outputs": [
    {
     "name": "stdout",
     "output_type": "stream",
     "text": [
      "My name is : abcsdf\n",
      "I am 12 years old\n"
     ]
    }
   ],
   "source": [
    "p1.introduce()"
   ]
  },
  {
   "cell_type": "code",
   "execution_count": 47,
   "metadata": {},
   "outputs": [
    {
     "data": {
      "text/plain": [
       "__main__.Employe"
      ]
     },
     "execution_count": 47,
     "metadata": {},
     "output_type": "execute_result"
    }
   ],
   "source": [
    "e1 = Employe(name = \"Nakul\", age=22, company=\"Apple\")\n",
    "type(e1)"
   ]
  },
  {
   "cell_type": "code",
   "execution_count": 48,
   "metadata": {},
   "outputs": [
    {
     "name": "stdout",
     "output_type": "stream",
     "text": [
      "I work at Apple\n"
     ]
    }
   ],
   "source": [
    "e1.work()"
   ]
  },
  {
   "cell_type": "code",
   "execution_count": 49,
   "metadata": {},
   "outputs": [
    {
     "name": "stdout",
     "output_type": "stream",
     "text": [
      "My name is : Nakul\n",
      "I am 22 years old\n"
     ]
    }
   ],
   "source": [
    "e1.introduce()"
   ]
  },
  {
   "cell_type": "code",
   "execution_count": 50,
   "metadata": {},
   "outputs": [
    {
     "name": "stdout",
     "output_type": "stream",
     "text": [
      "My name is : Nakul\n",
      "I am 22 years old\n",
      "I work at Apple\n"
     ]
    }
   ],
   "source": [
    "e1.introduce()\n",
    "e1.work()"
   ]
  },
  {
   "cell_type": "markdown",
   "metadata": {},
   "source": [
    "### Example of single inheritance"
   ]
  },
  {
   "cell_type": "markdown",
   "metadata": {},
   "source": [
    "Pydantic - Is data validation library in python"
   ]
  },
  {
   "cell_type": "code",
   "execution_count": 51,
   "metadata": {},
   "outputs": [
    {
     "name": "stdout",
     "output_type": "stream",
     "text": [
      "Requirement already satisfied: pydantic in /usr/local/python/3.12.1/lib/python3.12/site-packages (2.10.5)\n",
      "Requirement already satisfied: email-validator in /usr/local/python/3.12.1/lib/python3.12/site-packages (2.2.0)\n",
      "Requirement already satisfied: annotated-types>=0.6.0 in /usr/local/python/3.12.1/lib/python3.12/site-packages (from pydantic) (0.7.0)\n",
      "Requirement already satisfied: pydantic-core==2.27.2 in /usr/local/python/3.12.1/lib/python3.12/site-packages (from pydantic) (2.27.2)\n",
      "Requirement already satisfied: typing-extensions>=4.12.2 in /usr/local/python/3.12.1/lib/python3.12/site-packages (from pydantic) (4.12.2)\n",
      "Requirement already satisfied: dnspython>=2.0.0 in /usr/local/python/3.12.1/lib/python3.12/site-packages (from email-validator) (2.7.0)\n",
      "Requirement already satisfied: idna>=2.0.0 in /home/codespace/.local/lib/python3.12/site-packages (from email-validator) (3.10)\n",
      "\n",
      "\u001b[1m[\u001b[0m\u001b[34;49mnotice\u001b[0m\u001b[1;39;49m]\u001b[0m\u001b[39;49m A new release of pip is available: \u001b[0m\u001b[31;49m24.2\u001b[0m\u001b[39;49m -> \u001b[0m\u001b[32;49m24.3.1\u001b[0m\n",
      "\u001b[1m[\u001b[0m\u001b[34;49mnotice\u001b[0m\u001b[1;39;49m]\u001b[0m\u001b[39;49m To update, run: \u001b[0m\u001b[32;49mpython -m pip install --upgrade pip\u001b[0m\n",
      "Note: you may need to restart the kernel to use updated packages.\n"
     ]
    }
   ],
   "source": [
    "%pip install pydantic email-validator"
   ]
  },
  {
   "cell_type": "markdown",
   "metadata": {},
   "source": [
    "1. gt - greater than\n",
    "2. ge - greater than or equal to\n",
    "3. lt - less than\n",
    "4. le - less than or equal to"
   ]
  },
  {
   "cell_type": "code",
   "execution_count": 52,
   "metadata": {},
   "outputs": [],
   "source": [
    "from pydantic import BaseModel, Field, EmailStr\n",
    "from typing import Literal"
   ]
  },
  {
   "cell_type": "code",
   "execution_count": 53,
   "metadata": {},
   "outputs": [],
   "source": [
    "class Student(BaseModel):\n",
    "    roll_no: int = Field(description=\"Roll no. \", gt=0)\n",
    "    name: str = Field(description=\"Name\", min_length=1, max_length=50)\n",
    "    marks: float = Field(description=\"Marks\", gt=0, le=100)\n",
    "    gender: Literal[\"male\", \"female\"] = Field(description=\"Gender\")\n",
    "    email: EmailStr = Field(description= \"Email\")\n",
    "    hobbies: list[str] = Field(description=\"Hobbiest\", default_factory=list)\n",
    "\n",
    "    def get_student_details(self):\n",
    "        print(f\"Roll No : {self.roll_no}\")\n",
    "        print(f\"Name : {self.name}\")\n",
    "        print(f\"Marks : {self.marks}\")\n",
    "        print(f\"Gender : {self.gender}\")\n",
    "        print(f\"Email : {self.email}\")\n",
    "        print(f\"Hobbies : {self.hobbies}\")"
   ]
  },
  {
   "cell_type": "code",
   "execution_count": 54,
   "metadata": {},
   "outputs": [],
   "source": [
    "s1 = Student(\n",
    "    roll_no= 101,\n",
    "    name = \"Rohan\",\n",
    "    marks = 78.3,\n",
    "    gender= \"male\",\n",
    "    email= \"rohan@test.com\",\n",
    "    hobbies= [\"Cricket\", \"Singing\"]\n",
    ")"
   ]
  },
  {
   "cell_type": "code",
   "execution_count": 55,
   "metadata": {},
   "outputs": [
    {
     "name": "stdout",
     "output_type": "stream",
     "text": [
      "Roll No : 101\n",
      "Name : Rohan\n",
      "Marks : 78.3\n",
      "Gender : male\n",
      "Email : rohan@test.com\n",
      "Hobbies : ['Cricket', 'Singing']\n"
     ]
    }
   ],
   "source": [
    "s1.get_student_details()"
   ]
  },
  {
   "cell_type": "code",
   "execution_count": 56,
   "metadata": {},
   "outputs": [
    {
     "ename": "ValidationError",
     "evalue": "6 validation errors for Student\nroll_no\n  Input should be a valid integer, unable to parse string as an integer [type=int_parsing, input_value='a', input_type=str]\n    For further information visit https://errors.pydantic.dev/2.10/v/int_parsing\nname\n  Input should be a valid string [type=string_type, input_value=1234, input_type=int]\n    For further information visit https://errors.pydantic.dev/2.10/v/string_type\nmarks\n  Input should be less than or equal to 100 [type=less_than_equal, input_value=150, input_type=int]\n    For further information visit https://errors.pydantic.dev/2.10/v/less_than_equal\ngender\n  Input should be 'male' or 'female' [type=literal_error, input_value=23, input_type=int]\n    For further information visit https://errors.pydantic.dev/2.10/v/literal_error\nemail\n  Input should be a valid string [type=string_type, input_value=34.5, input_type=float]\n    For further information visit https://errors.pydantic.dev/2.10/v/string_type\nhobbies\n  Input should be a valid list [type=list_type, input_value={'a': 2, 'b': 2}, input_type=dict]\n    For further information visit https://errors.pydantic.dev/2.10/v/list_type",
     "output_type": "error",
     "traceback": [
      "\u001b[0;31m---------------------------------------------------------------------------\u001b[0m",
      "\u001b[0;31mValidationError\u001b[0m                           Traceback (most recent call last)",
      "Cell \u001b[0;32mIn[56], line 1\u001b[0m\n\u001b[0;32m----> 1\u001b[0m s2 \u001b[38;5;241m=\u001b[39m \u001b[43mStudent\u001b[49m\u001b[43m(\u001b[49m\n\u001b[1;32m      2\u001b[0m \u001b[43m    \u001b[49m\u001b[43mroll_no\u001b[49m\u001b[38;5;241;43m=\u001b[39;49m\u001b[43m \u001b[49m\u001b[38;5;124;43m\"\u001b[39;49m\u001b[38;5;124;43ma\u001b[39;49m\u001b[38;5;124;43m\"\u001b[39;49m\u001b[43m,\u001b[49m\n\u001b[1;32m      3\u001b[0m \u001b[43m    \u001b[49m\u001b[43mname\u001b[49m\u001b[43m \u001b[49m\u001b[38;5;241;43m=\u001b[39;49m\u001b[43m \u001b[49m\u001b[38;5;241;43m1234\u001b[39;49m\u001b[43m,\u001b[49m\n\u001b[1;32m      4\u001b[0m \u001b[43m    \u001b[49m\u001b[43mmarks\u001b[49m\u001b[43m \u001b[49m\u001b[38;5;241;43m=\u001b[39;49m\u001b[43m \u001b[49m\u001b[38;5;241;43m150\u001b[39;49m\u001b[43m,\u001b[49m\n\u001b[1;32m      5\u001b[0m \u001b[43m    \u001b[49m\u001b[43mgender\u001b[49m\u001b[43m \u001b[49m\u001b[38;5;241;43m=\u001b[39;49m\u001b[43m \u001b[49m\u001b[38;5;241;43m23\u001b[39;49m\u001b[43m,\u001b[49m\n\u001b[1;32m      6\u001b[0m \u001b[43m    \u001b[49m\u001b[43memail\u001b[49m\u001b[43m \u001b[49m\u001b[38;5;241;43m=\u001b[39;49m\u001b[43m \u001b[49m\u001b[38;5;241;43m34.5\u001b[39;49m\u001b[43m,\u001b[49m\n\u001b[1;32m      7\u001b[0m \u001b[43m    \u001b[49m\u001b[43mhobbies\u001b[49m\u001b[38;5;241;43m=\u001b[39;49m\u001b[43m \u001b[49m\u001b[43m{\u001b[49m\u001b[38;5;124;43m\"\u001b[39;49m\u001b[38;5;124;43ma\u001b[39;49m\u001b[38;5;124;43m\"\u001b[39;49m\u001b[43m:\u001b[49m\u001b[38;5;241;43m2\u001b[39;49m\u001b[43m,\u001b[49m\u001b[43m \u001b[49m\u001b[38;5;124;43m\"\u001b[39;49m\u001b[38;5;124;43mb\u001b[39;49m\u001b[38;5;124;43m\"\u001b[39;49m\u001b[43m:\u001b[49m\u001b[38;5;241;43m2\u001b[39;49m\u001b[43m}\u001b[49m\n\u001b[1;32m      8\u001b[0m \u001b[43m)\u001b[49m\n",
      "File \u001b[0;32m/usr/local/python/3.12.1/lib/python3.12/site-packages/pydantic/main.py:214\u001b[0m, in \u001b[0;36mBaseModel.__init__\u001b[0;34m(self, **data)\u001b[0m\n\u001b[1;32m    212\u001b[0m \u001b[38;5;66;03m# `__tracebackhide__` tells pytest and some other tools to omit this function from tracebacks\u001b[39;00m\n\u001b[1;32m    213\u001b[0m __tracebackhide__ \u001b[38;5;241m=\u001b[39m \u001b[38;5;28;01mTrue\u001b[39;00m\n\u001b[0;32m--> 214\u001b[0m validated_self \u001b[38;5;241m=\u001b[39m \u001b[38;5;28;43mself\u001b[39;49m\u001b[38;5;241;43m.\u001b[39;49m\u001b[43m__pydantic_validator__\u001b[49m\u001b[38;5;241;43m.\u001b[39;49m\u001b[43mvalidate_python\u001b[49m\u001b[43m(\u001b[49m\u001b[43mdata\u001b[49m\u001b[43m,\u001b[49m\u001b[43m \u001b[49m\u001b[43mself_instance\u001b[49m\u001b[38;5;241;43m=\u001b[39;49m\u001b[38;5;28;43mself\u001b[39;49m\u001b[43m)\u001b[49m\n\u001b[1;32m    215\u001b[0m \u001b[38;5;28;01mif\u001b[39;00m \u001b[38;5;28mself\u001b[39m \u001b[38;5;129;01mis\u001b[39;00m \u001b[38;5;129;01mnot\u001b[39;00m validated_self:\n\u001b[1;32m    216\u001b[0m     warnings\u001b[38;5;241m.\u001b[39mwarn(\n\u001b[1;32m    217\u001b[0m         \u001b[38;5;124m'\u001b[39m\u001b[38;5;124mA custom validator is returning a value other than `self`.\u001b[39m\u001b[38;5;130;01m\\n\u001b[39;00m\u001b[38;5;124m'\u001b[39m\n\u001b[1;32m    218\u001b[0m         \u001b[38;5;124m\"\u001b[39m\u001b[38;5;124mReturning anything other than `self` from a top level model validator isn\u001b[39m\u001b[38;5;124m'\u001b[39m\u001b[38;5;124mt supported when validating via `__init__`.\u001b[39m\u001b[38;5;130;01m\\n\u001b[39;00m\u001b[38;5;124m\"\u001b[39m\n\u001b[1;32m    219\u001b[0m         \u001b[38;5;124m'\u001b[39m\u001b[38;5;124mSee the `model_validator` docs (https://docs.pydantic.dev/latest/concepts/validators/#model-validators) for more details.\u001b[39m\u001b[38;5;124m'\u001b[39m,\n\u001b[1;32m    220\u001b[0m         stacklevel\u001b[38;5;241m=\u001b[39m\u001b[38;5;241m2\u001b[39m,\n\u001b[1;32m    221\u001b[0m     )\n",
      "\u001b[0;31mValidationError\u001b[0m: 6 validation errors for Student\nroll_no\n  Input should be a valid integer, unable to parse string as an integer [type=int_parsing, input_value='a', input_type=str]\n    For further information visit https://errors.pydantic.dev/2.10/v/int_parsing\nname\n  Input should be a valid string [type=string_type, input_value=1234, input_type=int]\n    For further information visit https://errors.pydantic.dev/2.10/v/string_type\nmarks\n  Input should be less than or equal to 100 [type=less_than_equal, input_value=150, input_type=int]\n    For further information visit https://errors.pydantic.dev/2.10/v/less_than_equal\ngender\n  Input should be 'male' or 'female' [type=literal_error, input_value=23, input_type=int]\n    For further information visit https://errors.pydantic.dev/2.10/v/literal_error\nemail\n  Input should be a valid string [type=string_type, input_value=34.5, input_type=float]\n    For further information visit https://errors.pydantic.dev/2.10/v/string_type\nhobbies\n  Input should be a valid list [type=list_type, input_value={'a': 2, 'b': 2}, input_type=dict]\n    For further information visit https://errors.pydantic.dev/2.10/v/list_type"
     ]
    }
   ],
   "source": [
    "s2 = Student(\n",
    "    roll_no= \"a\",\n",
    "    name = 1234,\n",
    "    marks = 150,\n",
    "    gender = 23,\n",
    "    email = 34.5,\n",
    "    hobbies= {\"a\":2, \"b\":2}\n",
    ")"
   ]
  },
  {
   "cell_type": "markdown",
   "metadata": {},
   "source": [
    "## Multiple Inheritance"
   ]
  },
  {
   "attachments": {
    "image.png": {
     "image/png": "[encoded data removed]"
    }
   },
   "cell_type": "markdown",
   "metadata": {},
   "source": [
    "![image.png](attachment:image.png)"
   ]
  },
  {
   "cell_type": "code",
   "execution_count": 57,
   "metadata": {},
   "outputs": [],
   "source": [
    "class BaseSalary:\n",
    "\n",
    "    def __init__(self, base_salary: float):\n",
    "        self.base_salary = base_salary\n",
    "\n",
    "    def get_base_salary(self):\n",
    "        return self.base_salary"
   ]
  },
  {
   "cell_type": "code",
   "execution_count": 58,
   "metadata": {},
   "outputs": [],
   "source": [
    "class Bonus:\n",
    "    def __init__(self, bonus_percent: float):\n",
    "        self.bonus_percent = bonus_percent\n",
    "\n",
    "    def calculate_bonus(self, salary):\n",
    "        return (self.bonus_percent/100) * salary"
   ]
  },
  {
   "cell_type": "code",
   "execution_count": 59,
   "metadata": {},
   "outputs": [],
   "source": [
    "class TotalSalary(BaseSalary, Bonus):\n",
    "\n",
    "    def __init__(self,name: str, base_salary: float, bouns_percent: float):\n",
    "        BaseSalary.__init__(self, base_salary)\n",
    "        Bonus.__init__(self, bouns_percent)\n",
    "        self.name = name\n",
    "\n",
    "    def get_total_salary(self):\n",
    "        bonus = self.calculate_bonus(self.base_salary)\n",
    "        return self.base_salary + bonus"
   ]
  },
  {
   "cell_type": "code",
   "execution_count": 60,
   "metadata": {},
   "outputs": [],
   "source": [
    "t1 = TotalSalary(name=\"Rohan\", base_salary=2100000.0, bouns_percent=12.5)"
   ]
  },
  {
   "cell_type": "code",
   "execution_count": 61,
   "metadata": {},
   "outputs": [
    {
     "data": {
      "text/plain": [
       "2100000.0"
      ]
     },
     "execution_count": 61,
     "metadata": {},
     "output_type": "execute_result"
    }
   ],
   "source": [
    "t1.get_base_salary()"
   ]
  },
  {
   "cell_type": "code",
   "execution_count": 62,
   "metadata": {},
   "outputs": [
    {
     "data": {
      "text/plain": [
       "262500.0"
      ]
     },
     "execution_count": 62,
     "metadata": {},
     "output_type": "execute_result"
    }
   ],
   "source": [
    "t1.calculate_bonus(t1.base_salary)"
   ]
  },
  {
   "cell_type": "code",
   "execution_count": 63,
   "metadata": {},
   "outputs": [
    {
     "data": {
      "text/plain": [
       "2362500.0"
      ]
     },
     "execution_count": 63,
     "metadata": {},
     "output_type": "execute_result"
    }
   ],
   "source": [
    "t1.get_total_salary()"
   ]
  },
  {
   "cell_type": "markdown",
   "metadata": {},
   "source": [
    "## Multilevel Inheritance"
   ]
  },
  {
   "cell_type": "code",
   "execution_count": 64,
   "metadata": {},
   "outputs": [],
   "source": [
    "class Employe2:\n",
    "\n",
    "    def __init__(self, emp_id, name):\n",
    "        self.emp_id = emp_id\n",
    "        self.name = name\n",
    "\n",
    "    def get_employee_info(self):\n",
    "        print(f\"Employee Id :{self.emp_id}, Name : {self.name}\")\n",
    "        "
   ]
  },
  {
   "cell_type": "code",
   "execution_count": 65,
   "metadata": {},
   "outputs": [],
   "source": [
    "class Manager(Employe2):\n",
    "\n",
    "    def __init__(self, emp_id, name, dept):\n",
    "        super().__init__(emp_id, name)\n",
    "        self.dept = dept\n",
    "\n",
    "    def get_dept(self):\n",
    "        print(f\"Department :{self.dept}\")"
   ]
  },
  {
   "cell_type": "code",
   "execution_count": 66,
   "metadata": {},
   "outputs": [],
   "source": [
    "class ProjectManager(Manager):\n",
    "\n",
    "    def __init__(self, emp_id, name, dept, project):\n",
    "        super().__init__(emp_id, name, dept)\n",
    "        self.project = project\n",
    "\n",
    "    def get_project_info(self):\n",
    "        print(f\"Project Details :{self.project}\")"
   ]
  },
  {
   "cell_type": "code",
   "execution_count": 67,
   "metadata": {},
   "outputs": [],
   "source": [
    "e1 = Employe2(emp_id= 102, name=\"Sarthak\")"
   ]
  },
  {
   "cell_type": "code",
   "execution_count": 68,
   "metadata": {},
   "outputs": [
    {
     "name": "stdout",
     "output_type": "stream",
     "text": [
      "Employee Id :102, Name : Sarthak\n"
     ]
    }
   ],
   "source": [
    "e1.get_employee_info()"
   ]
  },
  {
   "cell_type": "code",
   "execution_count": 69,
   "metadata": {},
   "outputs": [],
   "source": [
    "m1 = Manager(emp_id= 111, name=\"Aditi\", dept=\"Manager\")"
   ]
  },
  {
   "cell_type": "code",
   "execution_count": 70,
   "metadata": {},
   "outputs": [
    {
     "name": "stdout",
     "output_type": "stream",
     "text": [
      "Department :Manager\n"
     ]
    }
   ],
   "source": [
    "m1.get_dept()"
   ]
  },
  {
   "cell_type": "code",
   "execution_count": 71,
   "metadata": {},
   "outputs": [
    {
     "name": "stdout",
     "output_type": "stream",
     "text": [
      "Employee Id :111, Name : Aditi\n",
      "Department :Manager\n"
     ]
    }
   ],
   "source": [
    "m1.get_employee_info()\n",
    "m1.get_dept()"
   ]
  },
  {
   "cell_type": "code",
   "execution_count": 74,
   "metadata": {},
   "outputs": [],
   "source": [
    "pm1 = ProjectManager(emp_id = 199, name=\"XYZ\", dept=\"devOps\", project=\"Cannot Specify\")"
   ]
  },
  {
   "cell_type": "code",
   "execution_count": 75,
   "metadata": {},
   "outputs": [
    {
     "name": "stdout",
     "output_type": "stream",
     "text": [
      "Project Details :Cannot Specify\n"
     ]
    }
   ],
   "source": [
    "pm1.get_project_info()"
   ]
  },
  {
   "cell_type": "code",
   "execution_count": 76,
   "metadata": {},
   "outputs": [
    {
     "name": "stdout",
     "output_type": "stream",
     "text": [
      "Employee Id :199, Name : XYZ\n",
      "Department :devOps\n",
      "Project Details :Cannot Specify\n"
     ]
    }
   ],
   "source": [
    "pm1.get_employee_info()\n",
    "pm1.get_dept()\n",
    "pm1.get_project_info()"
   ]
  },
  {
   "cell_type": "markdown",
   "metadata": {},
   "source": [
    "## Hierarchical Inheritance"
   ]
  },
  {
   "cell_type": "code",
   "execution_count": 84,
   "metadata": {},
   "outputs": [],
   "source": [
    "class User:\n",
    "\n",
    "    def __init__(self, username, email):\n",
    "        self.username = username\n",
    "        self.email = email\n",
    "\n",
    "    def get_user_details(self):\n",
    "        print(f\"Username : {self.username}, Email : {self.email}\")"
   ]
  },
  {
   "cell_type": "code",
   "execution_count": 85,
   "metadata": {},
   "outputs": [],
   "source": [
    "class AdmiUser(User):\n",
    "\n",
    "    def __init__(self, usernamre, email, access):\n",
    "        super().__init__(username, email)\n",
    "        self.acess = access\n",
    "\n",
    "    def get_access_info(self):\n",
    "        print(f\"Admin Acess :{self.access}\")\n"
   ]
  },
  {
   "cell_type": "code",
   "execution_count": 86,
   "metadata": {},
   "outputs": [],
   "source": [
    "class RegularUser(User):\n",
    "\n",
    "    def __init__(self, username, email, access):\n",
    "        super().__init__(username, email)\n",
    "        self.access = access\n",
    "\n",
    "    def get_access_info(self):\n",
    "        print(f\"Access Level : {self.access}\")"
   ]
  },
  {
   "cell_type": "code",
   "execution_count": 87,
   "metadata": {},
   "outputs": [
    {
     "data": {
      "text/plain": [
       "__main__.User"
      ]
     },
     "execution_count": 87,
     "metadata": {},
     "output_type": "execute_result"
    }
   ],
   "source": [
    "u1 = User(username= \"ramanr1\", email=\"raman@test.com\")\n",
    "type(u1)"
   ]
  },
  {
   "cell_type": "code",
   "execution_count": 88,
   "metadata": {},
   "outputs": [
    {
     "name": "stdout",
     "output_type": "stream",
     "text": [
      "Username : ramanr1, Email : raman@test.com\n"
     ]
    }
   ],
   "source": [
    "u1.get_user_details()"
   ]
  },
  {
   "cell_type": "code",
   "execution_count": 89,
   "metadata": {},
   "outputs": [
    {
     "ename": "NameError",
     "evalue": "name 'AdminUser' is not defined",
     "output_type": "error",
     "traceback": [
      "\u001b[0;31m---------------------------------------------------------------------------\u001b[0m",
      "\u001b[0;31mNameError\u001b[0m                                 Traceback (most recent call last)",
      "Cell \u001b[0;32mIn[89], line 1\u001b[0m\n\u001b[0;32m----> 1\u001b[0m a1 \u001b[38;5;241m=\u001b[39m \u001b[43mAdminUser\u001b[49m(username\u001b[38;5;241m=\u001b[39m\u001b[38;5;124m\"\u001b[39m\u001b[38;5;124madmin001\u001b[39m\u001b[38;5;124m\"\u001b[39m, email\u001b[38;5;241m=\u001b[39m\u001b[38;5;124m\"\u001b[39m\u001b[38;5;124madmin@test.com\u001b[39m\u001b[38;5;124m\"\u001b[39m, access\u001b[38;5;241m=\u001b[39m\u001b[38;5;124m\"\u001b[39m\u001b[38;5;124mpartial\u001b[39m\u001b[38;5;124m\"\u001b[39m)\n\u001b[1;32m      2\u001b[0m \u001b[38;5;28mtype\u001b[39m(a1)\n",
      "\u001b[0;31mNameError\u001b[0m: name 'AdminUser' is not defined"
     ]
    }
   ],
   "source": [
    "a1 = AdminUser(username=\"admin001\", email=\"admin@test.com\", access=\"partial\")\n",
    "type(a1)"
   ]
  },
  {
   "cell_type": "code",
   "execution_count": null,
   "metadata": {},
   "outputs": [],
   "source": []
  },
  {
   "cell_type": "code",
   "execution_count": null,
   "metadata": {},
   "outputs": [],
   "source": []
  }
 ],
 "metadata": {
  "kernelspec": {
   "display_name": "Python 3",
   "language": "python",
   "name": "python3"
  },
  "language_info": {
   "codemirror_mode": {
    "name": "ipython",
    "version": 3
   },
   "file_extension": ".py",
   "mimetype": "text/x-python",
   "name": "python",
   "nbconvert_exporter": "python",
   "pygments_lexer": "ipython3",
   "version": "3.12.1"
  }
 },
 "nbformat": 4,
 "nbformat_minor": 2
}
