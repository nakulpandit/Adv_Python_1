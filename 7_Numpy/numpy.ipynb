{
 "cells": [
  {
   "cell_type": "markdown",
   "metadata": {},
   "source": [
    "## Array"
   ]
  },
  {
   "cell_type": "code",
   "execution_count": 1,
   "metadata": {},
   "outputs": [
    {
     "data": {
      "text/plain": [
       "list"
      ]
     },
     "execution_count": 1,
     "metadata": {},
     "output_type": "execute_result"
    }
   ],
   "source": [
    "a1 = [1, 2, 3, 4, 5]\n",
    "type(a1)"
   ]
  },
  {
   "cell_type": "code",
   "execution_count": 2,
   "metadata": {},
   "outputs": [],
   "source": [
    "import numpy as np\n",
    "a2 = np.array(a1)"
   ]
  },
  {
   "cell_type": "code",
   "execution_count": 3,
   "metadata": {},
   "outputs": [
    {
     "data": {
      "text/plain": [
       "array([1, 2, 3, 4, 5])"
      ]
     },
     "execution_count": 3,
     "metadata": {},
     "output_type": "execute_result"
    }
   ],
   "source": [
    "a2"
   ]
  },
  {
   "cell_type": "code",
   "execution_count": 4,
   "metadata": {},
   "outputs": [
    {
     "data": {
      "text/plain": [
       "numpy.ndarray"
      ]
     },
     "execution_count": 4,
     "metadata": {},
     "output_type": "execute_result"
    }
   ],
   "source": [
    "type(a2)"
   ]
  },
  {
   "cell_type": "code",
   "execution_count": 5,
   "metadata": {},
   "outputs": [
    {
     "data": {
      "text/plain": [
       "1"
      ]
     },
     "execution_count": 5,
     "metadata": {},
     "output_type": "execute_result"
    }
   ],
   "source": [
    "a2.ndim"
   ]
  },
  {
   "cell_type": "code",
   "execution_count": 6,
   "metadata": {},
   "outputs": [
    {
     "data": {
      "text/plain": [
       "(5,)"
      ]
     },
     "execution_count": 6,
     "metadata": {},
     "output_type": "execute_result"
    }
   ],
   "source": [
    "a2.shape"
   ]
  },
  {
   "cell_type": "markdown",
   "metadata": {},
   "source": [
    "### Creating 2D arrays"
   ]
  },
  {
   "cell_type": "code",
   "execution_count": 7,
   "metadata": {},
   "outputs": [
    {
     "data": {
      "text/plain": [
       "list"
      ]
     },
     "execution_count": 7,
     "metadata": {},
     "output_type": "execute_result"
    }
   ],
   "source": [
    "b1 = [[4, 5, 6, 7],\n",
    "      [9, 10, 11, 12]]\n",
    "type(b1)"
   ]
  },
  {
   "cell_type": "code",
   "execution_count": 10,
   "metadata": {},
   "outputs": [
    {
     "data": {
      "text/plain": [
       "array([[ 4,  5,  6,  7],\n",
       "       [ 9, 10, 11, 12]])"
      ]
     },
     "execution_count": 10,
     "metadata": {},
     "output_type": "execute_result"
    }
   ],
   "source": [
    "b2 = np.array(b1)\n",
    "b2"
   ]
  },
  {
   "cell_type": "code",
   "execution_count": 13,
   "metadata": {},
   "outputs": [
    {
     "data": {
      "text/plain": [
       "2"
      ]
     },
     "execution_count": 13,
     "metadata": {},
     "output_type": "execute_result"
    }
   ],
   "source": [
    "b2.ndim"
   ]
  },
  {
   "cell_type": "code",
   "execution_count": 14,
   "metadata": {},
   "outputs": [
    {
     "data": {
      "text/plain": [
       "(2, 4)"
      ]
     },
     "execution_count": 14,
     "metadata": {},
     "output_type": "execute_result"
    }
   ],
   "source": [
    "b2.shape"
   ]
  },
  {
   "cell_type": "markdown",
   "metadata": {},
   "source": [
    "### Creating 3D Arrays"
   ]
  },
  {
   "cell_type": "code",
   "execution_count": 15,
   "metadata": {},
   "outputs": [
    {
     "data": {
      "text/plain": [
       "list"
      ]
     },
     "execution_count": 15,
     "metadata": {},
     "output_type": "execute_result"
    }
   ],
   "source": [
    "c1 = [[[1, 2, 3, 4],\n",
    "       [4, 5, 6, 7],\n",
    "       [9, 10, 11, 12]],\n",
    "       \n",
    "      [[12, 13, 14, 15],\n",
    "       [16, 17, 18, 19],\n",
    "       [20, 21, 22, 23]]]\n",
    "type(c1)"
   ]
  },
  {
   "cell_type": "code",
   "execution_count": 16,
   "metadata": {},
   "outputs": [
    {
     "data": {
      "text/plain": [
       "array([[[ 1,  2,  3,  4],\n",
       "        [ 4,  5,  6,  7],\n",
       "        [ 9, 10, 11, 12]],\n",
       "\n",
       "       [[12, 13, 14, 15],\n",
       "        [16, 17, 18, 19],\n",
       "        [20, 21, 22, 23]]])"
      ]
     },
     "execution_count": 16,
     "metadata": {},
     "output_type": "execute_result"
    }
   ],
   "source": [
    "c2 = np.array(c1)\n",
    "c2"
   ]
  },
  {
   "cell_type": "code",
   "execution_count": 17,
   "metadata": {},
   "outputs": [
    {
     "data": {
      "text/plain": [
       "numpy.ndarray"
      ]
     },
     "execution_count": 17,
     "metadata": {},
     "output_type": "execute_result"
    }
   ],
   "source": [
    "type(c2)"
   ]
  },
  {
   "cell_type": "code",
   "execution_count": 18,
   "metadata": {},
   "outputs": [
    {
     "data": {
      "text/plain": [
       "3"
      ]
     },
     "execution_count": 18,
     "metadata": {},
     "output_type": "execute_result"
    }
   ],
   "source": [
    "c2.ndim"
   ]
  },
  {
   "cell_type": "code",
   "execution_count": 19,
   "metadata": {},
   "outputs": [
    {
     "data": {
      "text/plain": [
       "(2, 3, 4)"
      ]
     },
     "execution_count": 19,
     "metadata": {},
     "output_type": "execute_result"
    }
   ],
   "source": [
    "c2.shape"
   ]
  },
  {
   "cell_type": "markdown",
   "metadata": {},
   "source": [
    "### Reshaping the arrays"
   ]
  },
  {
   "cell_type": "code",
   "execution_count": 21,
   "metadata": {},
   "outputs": [
    {
     "data": {
      "text/plain": [
       "array([[ 2,  3,  4,  5],\n",
       "       [ 6,  7,  8,  9],\n",
       "       [10, 11, 12, 13]])"
      ]
     },
     "execution_count": 21,
     "metadata": {},
     "output_type": "execute_result"
    }
   ],
   "source": [
    "d1 = [[2, 3, 4, 5],\n",
    "      [6, 7, 8, 9],\n",
    "      [10, 11, 12, 13]]\n",
    "d2 = np.array(d1)\n",
    "d2"
   ]
  },
  {
   "cell_type": "code",
   "execution_count": 22,
   "metadata": {},
   "outputs": [
    {
     "data": {
      "text/plain": [
       "(3, 4)"
      ]
     },
     "execution_count": 22,
     "metadata": {},
     "output_type": "execute_result"
    }
   ],
   "source": [
    "d2.shape"
   ]
  },
  {
   "cell_type": "code",
   "execution_count": 23,
   "metadata": {},
   "outputs": [
    {
     "data": {
      "text/plain": [
       "array([[ 2,  3,  4,  5,  6,  7],\n",
       "       [ 8,  9, 10, 11, 12, 13]])"
      ]
     },
     "execution_count": 23,
     "metadata": {},
     "output_type": "execute_result"
    }
   ],
   "source": [
    "d2.reshape(2, 6)"
   ]
  },
  {
   "cell_type": "code",
   "execution_count": 24,
   "metadata": {},
   "outputs": [
    {
     "data": {
      "text/plain": [
       "array([[[ 2],\n",
       "        [ 3]],\n",
       "\n",
       "       [[ 4],\n",
       "        [ 5]],\n",
       "\n",
       "       [[ 6],\n",
       "        [ 7]],\n",
       "\n",
       "       [[ 8],\n",
       "        [ 9]],\n",
       "\n",
       "       [[10],\n",
       "        [11]],\n",
       "\n",
       "       [[12],\n",
       "        [13]]])"
      ]
     },
     "execution_count": 24,
     "metadata": {},
     "output_type": "execute_result"
    }
   ],
   "source": [
    "d2.reshape(6, 2, 1)"
   ]
  },
  {
   "cell_type": "markdown",
   "metadata": {},
   "source": [
    "### Performing arth operations inside list vs Array"
   ]
  },
  {
   "cell_type": "markdown",
   "metadata": {},
   "source": [
    "#### In a list"
   ]
  },
  {
   "cell_type": "code",
   "execution_count": 25,
   "metadata": {},
   "outputs": [
    {
     "data": {
      "text/plain": [
       "list"
      ]
     },
     "execution_count": 25,
     "metadata": {},
     "output_type": "execute_result"
    }
   ],
   "source": [
    "a = [5, 6, 7, 8, 9, 10, 11]\n",
    "type(a)"
   ]
  },
  {
   "cell_type": "code",
   "execution_count": 26,
   "metadata": {},
   "outputs": [
    {
     "data": {
      "text/plain": [
       "[5, 6, 7, 8, 9, 10, 11, 5, 6, 7, 8, 9, 10, 11, 5, 6, 7, 8, 9, 10, 11]"
      ]
     },
     "execution_count": 26,
     "metadata": {},
     "output_type": "execute_result"
    }
   ],
   "source": [
    "a*3"
   ]
  },
  {
   "cell_type": "code",
   "execution_count": 29,
   "metadata": {},
   "outputs": [
    {
     "data": {
      "text/plain": [
       "[15, 18, 21, 24, 27, 30, 33]"
      ]
     },
     "execution_count": 29,
     "metadata": {},
     "output_type": "execute_result"
    }
   ],
   "source": [
    "b = []\n",
    "for i in a:\n",
    "    b.append(i*3)\n",
    "b"
   ]
  },
  {
   "cell_type": "code",
   "execution_count": 30,
   "metadata": {},
   "outputs": [
    {
     "data": {
      "text/plain": [
       "[15, 18, 21, 24, 27, 30, 33]"
      ]
     },
     "execution_count": 30,
     "metadata": {},
     "output_type": "execute_result"
    }
   ],
   "source": [
    "c = [i*3 for i in a]\n",
    "c"
   ]
  },
  {
   "cell_type": "markdown",
   "metadata": {},
   "source": [
    "#### In Arrays"
   ]
  },
  {
   "cell_type": "code",
   "execution_count": 31,
   "metadata": {},
   "outputs": [
    {
     "data": {
      "text/plain": [
       "array([ 5,  6,  7,  8,  9, 10, 11])"
      ]
     },
     "execution_count": 31,
     "metadata": {},
     "output_type": "execute_result"
    }
   ],
   "source": [
    "a1 = np.array(a)\n",
    "a1"
   ]
  },
  {
   "cell_type": "code",
   "execution_count": 32,
   "metadata": {},
   "outputs": [
    {
     "data": {
      "text/plain": [
       "array([15, 18, 21, 24, 27, 30, 33])"
      ]
     },
     "execution_count": 32,
     "metadata": {},
     "output_type": "execute_result"
    }
   ],
   "source": [
    "a1*3"
   ]
  },
  {
   "cell_type": "code",
   "execution_count": 33,
   "metadata": {},
   "outputs": [
    {
     "data": {
      "text/plain": [
       "array([20, 23, 26, 29, 32, 35, 38])"
      ]
     },
     "execution_count": 33,
     "metadata": {},
     "output_type": "execute_result"
    }
   ],
   "source": [
    "3*a1 + 5"
   ]
  },
  {
   "cell_type": "code",
   "execution_count": 34,
   "metadata": {},
   "outputs": [
    {
     "data": {
      "text/plain": [
       "array([ 25,  36,  49,  64,  81, 100, 121])"
      ]
     },
     "execution_count": 34,
     "metadata": {},
     "output_type": "execute_result"
    }
   ],
   "source": [
    "a1**2"
   ]
  },
  {
   "cell_type": "markdown",
   "metadata": {},
   "source": [
    "### Taking product of elements inside list vs array\n"
   ]
  },
  {
   "cell_type": "code",
   "execution_count": 35,
   "metadata": {},
   "outputs": [
    {
     "data": {
      "text/plain": [
       "list"
      ]
     },
     "execution_count": 35,
     "metadata": {},
     "output_type": "execute_result"
    }
   ],
   "source": [
    "d = [12, 13, 11, 15, 14]\n",
    "type(d)"
   ]
  },
  {
   "cell_type": "code",
   "execution_count": 38,
   "metadata": {},
   "outputs": [
    {
     "data": {
      "text/plain": [
       "360360"
      ]
     },
     "execution_count": 38,
     "metadata": {},
     "output_type": "execute_result"
    }
   ],
   "source": [
    "# Initialize product by 1\n",
    "p = 1\n",
    "\n",
    "# Apply for loop\n",
    "for i in d:\n",
    "    p = p*i\n",
    "    \n",
    "p"
   ]
  },
  {
   "cell_type": "code",
   "execution_count": 39,
   "metadata": {},
   "outputs": [
    {
     "data": {
      "text/plain": [
       "[12, 13, 11, 15, 14]"
      ]
     },
     "execution_count": 39,
     "metadata": {},
     "output_type": "execute_result"
    }
   ],
   "source": [
    "d"
   ]
  },
  {
   "cell_type": "code",
   "execution_count": 40,
   "metadata": {},
   "outputs": [
    {
     "data": {
      "text/plain": [
       "np.int64(360360)"
      ]
     },
     "execution_count": 40,
     "metadata": {},
     "output_type": "execute_result"
    }
   ],
   "source": [
    "np.prod(d)"
   ]
  },
  {
   "cell_type": "markdown",
   "metadata": {},
   "source": [
    "### Aggregation functions in numpy\n",
    "1. sum\n",
    "2. mean\n",
    "3. median\n",
    "4. max\n",
    "5. min\n",
    "6. std\n",
    "7. prod"
   ]
  },
  {
   "attachments": {
    "image.png": {
     "image/png": "[encoded data removed]"
    }
   },
   "cell_type": "markdown",
   "metadata": {},
   "source": [
    "![image.png](attachment:image.png)"
   ]
  },
  {
   "cell_type": "code",
   "execution_count": 44,
   "metadata": {},
   "outputs": [
    {
     "data": {
      "text/plain": [
       "array([[ 2,  3,  4,  5],\n",
       "       [ 6,  7,  8,  9],\n",
       "       [11, 13, 12, 22]])"
      ]
     },
     "execution_count": 44,
     "metadata": {},
     "output_type": "execute_result"
    }
   ],
   "source": [
    "e1 = [[2, 3, 4, 5],\n",
    "      [6, 7, 8, 9],\n",
    "      [11, 13, 12, 22]]\n",
    "e2 = np.array(e1)\n",
    "e2"
   ]
  },
  {
   "cell_type": "code",
   "execution_count": 45,
   "metadata": {},
   "outputs": [
    {
     "data": {
      "text/plain": [
       "np.int64(102)"
      ]
     },
     "execution_count": 45,
     "metadata": {},
     "output_type": "execute_result"
    }
   ],
   "source": [
    "np.sum(e2)"
   ]
  },
  {
   "cell_type": "code",
   "execution_count": 47,
   "metadata": {},
   "outputs": [
    {
     "data": {
      "text/plain": [
       "array([19, 23, 24, 36])"
      ]
     },
     "execution_count": 47,
     "metadata": {},
     "output_type": "execute_result"
    }
   ],
   "source": [
    "e3 = np.sum(e2, axis=0)\n",
    "e3"
   ]
  },
  {
   "cell_type": "code",
   "execution_count": 48,
   "metadata": {},
   "outputs": [
    {
     "data": {
      "text/plain": [
       "array([14, 30, 58])"
      ]
     },
     "execution_count": 48,
     "metadata": {},
     "output_type": "execute_result"
    }
   ],
   "source": [
    "np.sum(e2, axis=1)"
   ]
  },
  {
   "cell_type": "code",
   "execution_count": 50,
   "metadata": {},
   "outputs": [
    {
     "data": {
      "text/plain": [
       "array([ 6.33333333,  7.66666667,  8.        , 12.        ])"
      ]
     },
     "execution_count": 50,
     "metadata": {},
     "output_type": "execute_result"
    }
   ],
   "source": [
    "np.mean(e2, axis=0)"
   ]
  },
  {
   "cell_type": "code",
   "execution_count": 51,
   "metadata": {},
   "outputs": [
    {
     "data": {
      "text/plain": [
       "array([ 3.5,  7.5, 12.5])"
      ]
     },
     "execution_count": 51,
     "metadata": {},
     "output_type": "execute_result"
    }
   ],
   "source": [
    "np.median(e2, axis=1)"
   ]
  },
  {
   "cell_type": "code",
   "execution_count": 52,
   "metadata": {},
   "outputs": [
    {
     "data": {
      "text/plain": [
       "np.int64(22)"
      ]
     },
     "execution_count": 52,
     "metadata": {},
     "output_type": "execute_result"
    }
   ],
   "source": [
    "np.max(e2)"
   ]
  },
  {
   "cell_type": "code",
   "execution_count": 53,
   "metadata": {},
   "outputs": [
    {
     "data": {
      "text/plain": [
       "array([11, 13, 12, 22])"
      ]
     },
     "execution_count": 53,
     "metadata": {},
     "output_type": "execute_result"
    }
   ],
   "source": [
    "np.max(e2, axis=0)"
   ]
  },
  {
   "cell_type": "code",
   "execution_count": 54,
   "metadata": {},
   "outputs": [
    {
     "data": {
      "text/plain": [
       "np.float64(5.283622494715786)"
      ]
     },
     "execution_count": 54,
     "metadata": {},
     "output_type": "execute_result"
    }
   ],
   "source": [
    "np.std(e2)"
   ]
  },
  {
   "cell_type": "markdown",
   "metadata": {},
   "source": [
    "### Generating linear data with numpy"
   ]
  },
  {
   "cell_type": "code",
   "execution_count": 55,
   "metadata": {},
   "outputs": [
    {
     "data": {
      "text/plain": [
       "[2, 5, 8, 11, 14]"
      ]
     },
     "execution_count": 55,
     "metadata": {},
     "output_type": "execute_result"
    }
   ],
   "source": [
    "# Range--  range(start, stop, step-size)\n",
    "a = list(range(2, 15, 3))\n",
    "a"
   ]
  },
  {
   "cell_type": "code",
   "execution_count": 56,
   "metadata": {},
   "outputs": [
    {
     "ename": "TypeError",
     "evalue": "'float' object cannot be interpreted as an integer",
     "output_type": "error",
     "traceback": [
      "\u001b[0;31m---------------------------------------------------------------------------\u001b[0m",
      "\u001b[0;31mTypeError\u001b[0m                                 Traceback (most recent call last)",
      "Cell \u001b[0;32mIn[56], line 1\u001b[0m\n\u001b[0;32m----> 1\u001b[0m \u001b[38;5;28;43mrange\u001b[39;49m\u001b[43m(\u001b[49m\u001b[38;5;241;43m0.1\u001b[39;49m\u001b[43m,\u001b[49m\u001b[43m \u001b[49m\u001b[38;5;241;43m1.2\u001b[39;49m\u001b[43m,\u001b[49m\u001b[43m \u001b[49m\u001b[38;5;241;43m0.2\u001b[39;49m\u001b[43m)\u001b[49m\n",
      "\u001b[0;31mTypeError\u001b[0m: 'float' object cannot be interpreted as an integer"
     ]
    }
   ],
   "source": [
    "range(0.1, 1.2, 0.2)"
   ]
  },
  {
   "cell_type": "markdown",
   "metadata": {},
   "source": []
  },
  {
   "cell_type": "code",
   "execution_count": 57,
   "metadata": {},
   "outputs": [
    {
     "data": {
      "text/plain": [
       "array([0.1, 0.3, 0.5, 0.7, 0.9, 1.1, 1.3, 1.5, 1.7, 1.9, 2.1, 2.3, 2.5,\n",
       "       2.7, 2.9, 3.1, 3.3, 3.5, 3.7, 3.9, 4.1, 4.3, 4.5, 4.7, 4.9, 5.1,\n",
       "       5.3, 5.5, 5.7, 5.9, 6.1, 6.3, 6.5, 6.7, 6.9, 7.1, 7.3, 7.5, 7.7,\n",
       "       7.9, 8.1, 8.3, 8.5, 8.7, 8.9, 9.1, 9.3, 9.5, 9.7, 9.9])"
      ]
     },
     "execution_count": 57,
     "metadata": {},
     "output_type": "execute_result"
    }
   ],
   "source": [
    "b = np.arange(0.1, 10.1, 0.2)\n",
    "b"
   ]
  },
  {
   "cell_type": "markdown",
   "metadata": {},
   "source": []
  },
  {
   "cell_type": "code",
   "execution_count": 68,
   "metadata": {},
   "outputs": [
    {
     "data": {
      "text/plain": [
       "array([ 2.,  4.,  6.,  8., 10.])"
      ]
     },
     "execution_count": 68,
     "metadata": {},
     "output_type": "execute_result"
    }
   ],
   "source": [
    "# np.linspace(start, stop, num of equal spaces needed)\n",
    "c = np.linspace(2, 10, 5)\n",
    "c"
   ]
  },
  {
   "cell_type": "code",
   "execution_count": 63,
   "metadata": {},
   "outputs": [
    {
     "data": {
      "text/plain": [
       "array([  1.    ,   7.1875,  13.375 ,  19.5625,  25.75  ,  31.9375,\n",
       "        38.125 ,  44.3125,  50.5   ,  56.6875,  62.875 ,  69.0625,\n",
       "        75.25  ,  81.4375,  87.625 ,  93.8125, 100.    ])"
      ]
     },
     "execution_count": 63,
     "metadata": {},
     "output_type": "execute_result"
    }
   ],
   "source": [
    "np.linspace(start=1, stop=100, num=17)"
   ]
  },
  {
   "cell_type": "markdown",
   "metadata": {},
   "source": [
    "### Generating random values"
   ]
  },
  {
   "cell_type": "markdown",
   "metadata": {},
   "source": [
    "#### 1. Between 0 - 1"
   ]
  },
  {
   "cell_type": "code",
   "execution_count": 64,
   "metadata": {},
   "outputs": [
    {
     "data": {
      "text/plain": [
       "0.27058125168144354"
      ]
     },
     "execution_count": 64,
     "metadata": {},
     "output_type": "execute_result"
    }
   ],
   "source": [
    "np.random.random()"
   ]
  },
  {
   "cell_type": "code",
   "execution_count": 65,
   "metadata": {},
   "outputs": [
    {
     "data": {
      "text/plain": [
       "array([0.99270625, 0.74629258, 0.94119264, 0.27005112, 0.34123375,\n",
       "       0.49627964, 0.75806796, 0.71479868, 0.55097253, 0.32394316,\n",
       "       0.59235995, 0.66448426, 0.92509393, 0.1075293 , 0.25589855,\n",
       "       0.04101529, 0.16884517, 0.1300234 , 0.60894744, 0.41361845])"
      ]
     },
     "execution_count": 65,
     "metadata": {},
     "output_type": "execute_result"
    }
   ],
   "source": [
    "a = np.random.random(size=20)\n",
    "a"
   ]
  },
  {
   "cell_type": "markdown",
   "metadata": {},
   "source": [
    "#### 2. Random Integer"
   ]
  },
  {
   "cell_type": "code",
   "execution_count": 72,
   "metadata": {},
   "outputs": [
    {
     "data": {
      "text/plain": [
       "2"
      ]
     },
     "execution_count": 72,
     "metadata": {},
     "output_type": "execute_result"
    }
   ],
   "source": [
    "np.random.randint(low=1, high=7)"
   ]
  },
  {
   "cell_type": "code",
   "execution_count": 74,
   "metadata": {},
   "outputs": [
    {
     "data": {
      "text/plain": [
       "array([2, 2, 6, 6, 5, 1, 2, 3, 4, 3, 2, 2, 1, 6, 2, 6, 5, 5, 3, 3, 1, 5,\n",
       "       4, 2, 6, 5, 5, 5, 2, 3, 1, 3, 5, 3, 4, 6, 3, 4, 5, 6, 5, 6, 3, 3,\n",
       "       6, 1, 4, 1, 1, 5, 5, 2, 2, 5, 6, 4, 4, 4, 2, 3, 3, 2, 1, 6, 6, 2,\n",
       "       2, 1, 4, 2, 1, 4, 1, 5, 6, 5, 5, 5, 1, 1, 1, 4, 1, 3, 3, 4, 6, 4,\n",
       "       1, 2, 2, 4, 5, 2, 6, 2, 5, 1, 2, 4, 4, 5, 2, 4, 5, 6, 4, 6, 6, 3,\n",
       "       4, 6, 5, 6, 2, 3, 4, 1, 5, 1, 2, 3, 6, 2, 5, 2, 4, 6, 6, 6, 6, 3,\n",
       "       5, 6, 6, 6, 1, 5, 2, 1, 3, 5, 4, 4, 1, 4, 4, 3, 3, 4, 3, 2, 6, 2,\n",
       "       1, 4, 3, 6, 6, 5, 5, 1, 2, 6, 3, 3, 3, 2, 4, 1, 6, 6, 2, 1, 6, 1,\n",
       "       3, 3, 6, 2, 5, 4, 6, 2, 2, 4, 6, 5, 5, 4, 1, 2, 4, 2, 3, 3, 4, 4,\n",
       "       2, 2, 4, 2, 1, 5, 5, 3, 1, 4, 1, 5, 6, 3, 4, 1, 5, 4, 5, 6, 2, 4,\n",
       "       6, 2, 5, 5, 6, 6, 4, 2, 6, 5, 2, 1, 4, 4, 1, 6, 6, 3, 4, 2, 1, 4,\n",
       "       5, 4, 3, 1, 6, 5, 2, 6, 1, 5, 4, 3, 3, 3, 3, 6, 1, 2, 6, 4, 5, 3,\n",
       "       3, 2, 2, 1, 4, 3, 1, 3, 2, 5, 5, 2, 4, 2, 4, 3, 4, 3, 3, 4, 1, 5,\n",
       "       3, 2, 2, 2, 5, 1, 4, 2, 2, 3, 6, 2, 3, 1, 4, 3, 2, 4, 5, 2, 6, 5,\n",
       "       6, 3, 3, 4, 3, 1, 2, 4, 2, 1, 2, 5, 3, 6, 5, 6, 3, 6, 2, 2, 4, 3,\n",
       "       2, 3, 2, 5, 5, 4, 3, 1, 1, 5, 1, 1, 3, 2, 5, 4, 2, 1, 5, 2, 2, 3,\n",
       "       4, 4, 4, 6, 1, 3, 2, 2, 3, 6, 1, 6, 2, 1, 6, 5, 2, 4, 5, 4, 4, 3,\n",
       "       3, 3, 5, 2, 5, 6, 1, 3, 4, 6, 3, 5, 2, 5, 5, 5, 1, 3, 1, 6, 4, 1,\n",
       "       1, 4, 6, 6, 5, 5, 1, 5, 4, 4, 4, 1, 1, 3, 3, 5, 1, 5, 2, 2, 3, 5,\n",
       "       1, 2, 3, 6, 6, 4, 3, 5, 5, 3, 4, 4, 5, 2, 6, 5, 2, 2, 6, 6, 2, 2,\n",
       "       2, 5, 5, 3, 4, 2, 2, 5, 1, 1, 5, 4, 6, 3, 3, 2, 2, 2, 2, 1, 4, 3,\n",
       "       5, 4, 4, 4, 4, 5, 4, 3, 4, 6, 4, 1, 5, 4, 3, 5, 5, 3, 3, 4, 4, 1,\n",
       "       3, 4, 5, 1, 2, 6, 3, 4, 6, 1, 6, 2, 6, 4, 5, 1, 3, 4, 5, 3, 4, 4,\n",
       "       1, 5, 4, 3, 2, 6, 3, 4, 4, 5, 6, 3, 6, 2, 5, 1, 4, 5, 2, 4, 1, 6,\n",
       "       1, 5, 5, 1, 5, 3, 4, 4, 4, 2, 3, 5, 6, 4, 3, 5, 1, 2, 4, 1, 4, 2,\n",
       "       5, 3, 3, 5, 1, 6, 3, 3, 4, 4, 6, 5, 1, 4, 1, 3, 4, 1, 1, 3, 3, 5,\n",
       "       6, 5, 4, 3, 6, 1, 2, 1, 2, 2, 5, 1, 3, 6, 3, 5, 3, 1, 1, 3, 2, 2,\n",
       "       2, 3, 6, 5, 4, 5, 1, 1, 3, 5, 1, 5, 4, 5, 4, 6, 5, 6, 5, 5, 1, 5,\n",
       "       3, 1, 6, 3, 4, 2, 1, 6, 3, 2, 5, 3, 6, 1, 5, 5, 5, 5, 2, 3, 6, 2,\n",
       "       3, 6, 2, 4, 3, 5, 3, 1, 3, 6, 1, 3, 1, 5, 6, 3, 6, 4, 5, 3, 1, 6,\n",
       "       4, 3, 3, 6, 4, 4, 1, 5, 2, 1, 5, 6, 5, 4, 1, 5, 6, 5, 1, 5, 5, 6,\n",
       "       5, 4, 5, 1, 4, 4, 2, 3, 1, 6, 1, 4, 6, 4, 6, 2, 3, 6, 5, 6, 5, 1,\n",
       "       5, 2, 2, 1, 4, 1, 1, 5, 2, 6, 3, 2, 2, 5, 3, 5, 5, 1, 6, 5, 5, 4,\n",
       "       6, 2, 3, 3, 3, 4, 4, 6, 4, 2, 2, 6, 1, 4, 6, 3, 2, 1, 2, 3, 5, 1,\n",
       "       6, 2, 6, 3, 6, 1, 5, 4, 6, 1, 1, 6, 4, 1, 5, 6, 3, 6, 2, 6, 3, 3,\n",
       "       5, 6, 4, 4, 1, 3, 4, 1, 1, 1, 5, 5, 6, 2, 5, 4, 3, 4, 2, 3, 4, 5,\n",
       "       4, 4, 1, 1, 2, 5, 2, 3, 5, 6, 2, 2, 1, 5, 5, 5, 6, 3, 2, 3, 2, 6,\n",
       "       1, 5, 1, 2, 2, 3, 2, 3, 3, 2, 4, 4, 1, 4, 1, 1, 4, 1, 4, 5, 2, 5,\n",
       "       5, 5, 4, 2, 3, 1, 4, 4, 4, 3, 1, 1, 3, 3, 6, 4, 3, 3, 3, 4, 3, 5,\n",
       "       6, 2, 2, 6, 6, 4, 4, 2, 6, 1, 3, 4, 1, 2, 4, 1, 2, 5, 5, 6, 5, 2,\n",
       "       5, 2, 4, 4, 4, 1, 2, 1, 5, 2, 1, 1, 2, 4, 2, 3, 4, 1, 3, 1, 1, 5,\n",
       "       1, 3, 2, 6, 2, 2, 6, 2, 6, 1, 2, 5, 3, 2, 6, 2, 5, 2, 5, 5, 4, 1,\n",
       "       3, 5, 3, 3, 5, 5, 2, 5, 4, 4, 4, 4, 5, 1, 5, 4, 4, 5, 4, 5, 2, 2,\n",
       "       2, 1, 6, 6, 1, 3, 2, 6, 3, 5, 4, 4, 6, 2, 6, 1, 6, 3, 3, 1, 5, 4,\n",
       "       4, 2, 4, 3, 4, 5, 5, 4, 1, 3, 5, 6, 3, 3, 4, 1, 3, 3, 5, 5, 2, 6,\n",
       "       1, 3, 1, 3, 1, 1, 1, 3, 5, 3])"
      ]
     },
     "execution_count": 74,
     "metadata": {},
     "output_type": "execute_result"
    }
   ],
   "source": [
    "dice = np.random.randint(low=1, high=7, size=1000)\n",
    "dice"
   ]
  },
  {
   "cell_type": "code",
   "execution_count": 75,
   "metadata": {},
   "outputs": [
    {
     "data": {
      "text/plain": [
       "array([1, 2, 3, 4, 5, 6])"
      ]
     },
     "execution_count": 75,
     "metadata": {},
     "output_type": "execute_result"
    }
   ],
   "source": [
    "np.unique(dice)"
   ]
  },
  {
   "cell_type": "markdown",
   "metadata": {},
   "source": [
    "#### 3. Generating Normal Distribution"
   ]
  },
  {
   "cell_type": "code",
   "execution_count": 76,
   "metadata": {},
   "outputs": [
    {
     "data": {
      "text/plain": [
       "5.678510661252064"
      ]
     },
     "execution_count": 76,
     "metadata": {},
     "output_type": "execute_result"
    }
   ],
   "source": [
    "np.random.normal(loc= 5.5, scale= 0.5/3)"
   ]
  },
  {
   "cell_type": "code",
   "execution_count": 77,
   "metadata": {},
   "outputs": [
    {
     "data": {
      "text/plain": [
       "array([5.35566137, 5.47213092, 5.65506522, ..., 5.48945197, 5.72354816,\n",
       "       5.5314799 ], shape=(10000,))"
      ]
     },
     "execution_count": 77,
     "metadata": {},
     "output_type": "execute_result"
    }
   ],
   "source": [
    "h = np.random.normal(loc= 5.5, scale=0.5/3, size=10000)\n",
    "h"
   ]
  },
  {
   "cell_type": "code",
   "execution_count": 78,
   "metadata": {},
   "outputs": [
    {
     "data": {
      "text/plain": [
       "<Axes: ylabel='Count'>"
      ]
     },
     "execution_count": 78,
     "metadata": {},
     "output_type": "execute_result"
    },
    {
     "data": {
      "image/png": "[encoded data removed]",
      "text/plain": [
       "<Figure size 640x480 with 1 Axes>"
      ]
     },
     "metadata": {},
     "output_type": "display_data"
    }
   ],
   "source": [
    "import seaborn as sns\n",
    "sns.histplot(data=h, kde=True)"
   ]
  },
  {
   "cell_type": "markdown",
   "metadata": {},
   "source": [
    "#### 4. Randomly selecting a choice"
   ]
  },
  {
   "cell_type": "code",
   "execution_count": 79,
   "metadata": {},
   "outputs": [],
   "source": [
    "a = [\"laptop\", \"mobile\", \"charger\", \"headphones\", \"Mouse\", \"Keyboard\"]"
   ]
  },
  {
   "cell_type": "code",
   "execution_count": 80,
   "metadata": {},
   "outputs": [
    {
     "data": {
      "text/plain": [
       "np.str_('headphones')"
      ]
     },
     "execution_count": 80,
     "metadata": {},
     "output_type": "execute_result"
    }
   ],
   "source": [
    "np.random.choice(a)"
   ]
  },
  {
   "cell_type": "code",
   "execution_count": 81,
   "metadata": {},
   "outputs": [
    {
     "data": {
      "text/plain": [
       "array(['Mouse', 'mobile', 'mobile', 'Mouse', 'charger', 'laptop',\n",
       "       'laptop', 'headphones', 'Keyboard', 'Keyboard', 'mobile',\n",
       "       'headphones', 'charger', 'laptop', 'mobile', 'headphones',\n",
       "       'Keyboard', 'Keyboard', 'headphones', 'headphones'], dtype='<U10')"
      ]
     },
     "execution_count": 81,
     "metadata": {},
     "output_type": "execute_result"
    }
   ],
   "source": [
    "np.random.choice(a, size=20)"
   ]
  },
  {
   "cell_type": "markdown",
   "metadata": {},
   "source": [
    "### Mathematical Functions"
   ]
  },
  {
   "cell_type": "code",
   "execution_count": 82,
   "metadata": {},
   "outputs": [
    {
     "data": {
      "text/plain": [
       "3.141592653589793"
      ]
     },
     "execution_count": 82,
     "metadata": {},
     "output_type": "execute_result"
    }
   ],
   "source": [
    "np.pi"
   ]
  },
  {
   "cell_type": "code",
   "execution_count": 83,
   "metadata": {},
   "outputs": [
    {
     "data": {
      "text/plain": [
       "array([0.1, 0.2, 0.3, 0.4, 0.5, 0.6, 0.7, 0.8, 0.9, 1. , 1.1, 1.2, 1.3,\n",
       "       1.4, 1.5, 1.6, 1.7, 1.8, 1.9, 2. , 2.1, 2.2, 2.3, 2.4, 2.5, 2.6,\n",
       "       2.7, 2.8, 2.9, 3. , 3.1, 3.2, 3.3, 3.4, 3.5, 3.6, 3.7, 3.8, 3.9,\n",
       "       4. , 4.1, 4.2, 4.3, 4.4, 4.5, 4.6, 4.7, 4.8, 4.9, 5. , 5.1, 5.2,\n",
       "       5.3, 5.4, 5.5, 5.6, 5.7, 5.8, 5.9, 6. , 6.1, 6.2, 6.3, 6.4, 6.5,\n",
       "       6.6, 6.7, 6.8, 6.9, 7. , 7.1, 7.2, 7.3, 7.4, 7.5, 7.6, 7.7, 7.8,\n",
       "       7.9, 8. , 8.1, 8.2, 8.3, 8.4, 8.5, 8.6, 8.7, 8.8, 8.9, 9. , 9.1,\n",
       "       9.2, 9.3, 9.4, 9.5, 9.6, 9.7, 9.8, 9.9])"
      ]
     },
     "execution_count": 83,
     "metadata": {},
     "output_type": "execute_result"
    }
   ],
   "source": [
    "b = np.arange(start=0.1, stop=10, step=0.1)\n",
    "b"
   ]
  },
  {
   "cell_type": "code",
   "execution_count": 84,
   "metadata": {},
   "outputs": [
    {
     "data": {
      "text/plain": [
       "array([0.1, 0.2, 0.3, 0.4, 0.5, 0.6, 0.7, 0.8, 0.9, 1. , 1.1, 1.2, 1.3,\n",
       "       1.4, 1.5, 1.6, 1.7, 1.8, 1.9, 2. , 2.1, 2.2, 2.3, 2.4, 2.5, 2.6,\n",
       "       2.7, 2.8, 2.9, 3. , 3.1, 3.2, 3.3, 3.4, 3.5, 3.6, 3.7, 3.8, 3.9,\n",
       "       4. , 4.1, 4.2, 4.3, 4.4, 4.5, 4.6, 4.7, 4.8, 4.9, 5. , 5.1, 5.2,\n",
       "       5.3, 5.4, 5.5, 5.6, 5.7, 5.8, 5.9, 6. , 6.1, 6.2, 6.3, 6.4, 6.5,\n",
       "       6.6, 6.7, 6.8, 6.9, 7. , 7.1, 7.2, 7.3, 7.4, 7.5, 7.6, 7.7, 7.8,\n",
       "       7.9, 8. , 8.1, 8.2, 8.3, 8.4, 8.5, 8.6, 8.7, 8.8, 8.9, 9. , 9.1,\n",
       "       9.2, 9.3, 9.4, 9.5, 9.6, 9.7, 9.8, 9.9])"
      ]
     },
     "execution_count": 84,
     "metadata": {},
     "output_type": "execute_result"
    }
   ],
   "source": [
    "b = np.arange(0.1, 10, 0.1)\n",
    "b"
   ]
  },
  {
   "cell_type": "code",
   "execution_count": 85,
   "metadata": {},
   "outputs": [
    {
     "data": {
      "text/plain": [
       "array([0.31622777, 0.4472136 , 0.54772256, 0.63245553, 0.70710678,\n",
       "       0.77459667, 0.83666003, 0.89442719, 0.9486833 , 1.        ,\n",
       "       1.04880885, 1.09544512, 1.14017543, 1.18321596, 1.22474487,\n",
       "       1.26491106, 1.30384048, 1.34164079, 1.37840488, 1.41421356,\n",
       "       1.44913767, 1.4832397 , 1.51657509, 1.54919334, 1.58113883,\n",
       "       1.61245155, 1.64316767, 1.67332005, 1.70293864, 1.73205081,\n",
       "       1.76068169, 1.78885438, 1.81659021, 1.84390889, 1.87082869,\n",
       "       1.8973666 , 1.92353841, 1.94935887, 1.97484177, 2.        ,\n",
       "       2.02484567, 2.04939015, 2.07364414, 2.0976177 , 2.12132034,\n",
       "       2.14476106, 2.16794834, 2.19089023, 2.21359436, 2.23606798,\n",
       "       2.25831796, 2.28035085, 2.30217289, 2.32379001, 2.34520788,\n",
       "       2.36643191, 2.38746728, 2.40831892, 2.42899156, 2.44948974,\n",
       "       2.46981781, 2.48997992, 2.50998008, 2.52982213, 2.54950976,\n",
       "       2.56904652, 2.58843582, 2.60768096, 2.62678511, 2.64575131,\n",
       "       2.66458252, 2.68328157, 2.70185122, 2.7202941 , 2.73861279,\n",
       "       2.75680975, 2.77488739, 2.79284801, 2.81069386, 2.82842712,\n",
       "       2.84604989, 2.86356421, 2.88097206, 2.89827535, 2.91547595,\n",
       "       2.93257566, 2.94957624, 2.96647939, 2.98328678, 3.        ,\n",
       "       3.01662063, 3.03315018, 3.04959014, 3.06594194, 3.082207  ,\n",
       "       3.09838668, 3.1144823 , 3.13049517, 3.14642654])"
      ]
     },
     "execution_count": 85,
     "metadata": {},
     "output_type": "execute_result"
    }
   ],
   "source": [
    "np.sqrt(b)"
   ]
  },
  {
   "cell_type": "code",
   "execution_count": 86,
   "metadata": {},
   "outputs": [
    {
     "data": {
      "text/plain": [
       "np.float64(2.718281828459045)"
      ]
     },
     "execution_count": 86,
     "metadata": {},
     "output_type": "execute_result"
    }
   ],
   "source": [
    "# Eulers constant\n",
    "np.exp(1)"
   ]
  },
  {
   "cell_type": "code",
   "execution_count": 87,
   "metadata": {},
   "outputs": [
    {
     "data": {
      "text/plain": [
       "array([1.10517092e+00, 1.22140276e+00, 1.34985881e+00, 1.49182470e+00,\n",
       "       1.64872127e+00, 1.82211880e+00, 2.01375271e+00, 2.22554093e+00,\n",
       "       2.45960311e+00, 2.71828183e+00, 3.00416602e+00, 3.32011692e+00,\n",
       "       3.66929667e+00, 4.05519997e+00, 4.48168907e+00, 4.95303242e+00,\n",
       "       5.47394739e+00, 6.04964746e+00, 6.68589444e+00, 7.38905610e+00,\n",
       "       8.16616991e+00, 9.02501350e+00, 9.97418245e+00, 1.10231764e+01,\n",
       "       1.21824940e+01, 1.34637380e+01, 1.48797317e+01, 1.64446468e+01,\n",
       "       1.81741454e+01, 2.00855369e+01, 2.21979513e+01, 2.45325302e+01,\n",
       "       2.71126389e+01, 2.99641000e+01, 3.31154520e+01, 3.65982344e+01,\n",
       "       4.04473044e+01, 4.47011845e+01, 4.94024491e+01, 5.45981500e+01,\n",
       "       6.03402876e+01, 6.66863310e+01, 7.36997937e+01, 8.14508687e+01,\n",
       "       9.00171313e+01, 9.94843156e+01, 1.09947172e+02, 1.21510418e+02,\n",
       "       1.34289780e+02, 1.48413159e+02, 1.64021907e+02, 1.81272242e+02,\n",
       "       2.00336810e+02, 2.21406416e+02, 2.44691932e+02, 2.70426407e+02,\n",
       "       2.98867401e+02, 3.30299560e+02, 3.65037468e+02, 4.03428793e+02,\n",
       "       4.45857770e+02, 4.92749041e+02, 5.44571910e+02, 6.01845038e+02,\n",
       "       6.65141633e+02, 7.35095189e+02, 8.12405825e+02, 8.97847292e+02,\n",
       "       9.92274716e+02, 1.09663316e+03, 1.21196707e+03, 1.33943076e+03,\n",
       "       1.48029993e+03, 1.63598443e+03, 1.80804241e+03, 1.99819590e+03,\n",
       "       2.20834799e+03, 2.44060198e+03, 2.69728233e+03, 2.98095799e+03,\n",
       "       3.29446808e+03, 3.64095031e+03, 4.02387239e+03, 4.44706675e+03,\n",
       "       4.91476884e+03, 5.43165959e+03, 6.00291222e+03, 6.63424401e+03,\n",
       "       7.33197354e+03, 8.10308393e+03, 8.95529270e+03, 9.89712906e+03,\n",
       "       1.09380192e+04, 1.20883807e+04, 1.33597268e+04, 1.47647816e+04,\n",
       "       1.63176072e+04, 1.80337449e+04, 1.99303704e+04])"
      ]
     },
     "execution_count": 87,
     "metadata": {},
     "output_type": "execute_result"
    }
   ],
   "source": [
    "np.exp(b)"
   ]
  },
  {
   "cell_type": "code",
   "execution_count": 88,
   "metadata": {},
   "outputs": [
    {
     "data": {
      "text/plain": [
       "array([-2.30258509, -1.60943791, -1.2039728 , -0.91629073, -0.69314718,\n",
       "       -0.51082562, -0.35667494, -0.22314355, -0.10536052,  0.        ,\n",
       "        0.09531018,  0.18232156,  0.26236426,  0.33647224,  0.40546511,\n",
       "        0.47000363,  0.53062825,  0.58778666,  0.64185389,  0.69314718,\n",
       "        0.74193734,  0.78845736,  0.83290912,  0.87546874,  0.91629073,\n",
       "        0.95551145,  0.99325177,  1.02961942,  1.06471074,  1.09861229,\n",
       "        1.13140211,  1.16315081,  1.19392247,  1.22377543,  1.25276297,\n",
       "        1.28093385,  1.30833282,  1.33500107,  1.36097655,  1.38629436,\n",
       "        1.41098697,  1.43508453,  1.45861502,  1.48160454,  1.5040774 ,\n",
       "        1.5260563 ,  1.54756251,  1.56861592,  1.58923521,  1.60943791,\n",
       "        1.62924054,  1.64865863,  1.66770682,  1.68639895,  1.70474809,\n",
       "        1.7227666 ,  1.74046617,  1.75785792,  1.77495235,  1.79175947,\n",
       "        1.80828877,  1.82454929,  1.84054963,  1.85629799,  1.87180218,\n",
       "        1.88706965,  1.90210753,  1.91692261,  1.93152141,  1.94591015,\n",
       "        1.96009478,  1.97408103,  1.98787435,  2.00148   ,  2.01490302,\n",
       "        2.02814825,  2.04122033,  2.05412373,  2.06686276,  2.07944154,\n",
       "        2.09186406,  2.10413415,  2.11625551,  2.12823171,  2.14006616,\n",
       "        2.1517622 ,  2.16332303,  2.17475172,  2.18605128,  2.19722458,\n",
       "        2.20827441,  2.21920348,  2.2300144 ,  2.24070969,  2.2512918 ,\n",
       "        2.2617631 ,  2.27212589,  2.28238239,  2.29253476])"
      ]
     },
     "execution_count": 88,
     "metadata": {},
     "output_type": "execute_result"
    }
   ],
   "source": [
    "np.log(b)"
   ]
  },
  {
   "cell_type": "code",
   "execution_count": 89,
   "metadata": {},
   "outputs": [
    {
     "data": {
      "text/plain": [
       "array([-1.        , -0.69897   , -0.52287875, -0.39794001, -0.30103   ,\n",
       "       -0.22184875, -0.15490196, -0.09691001, -0.04575749,  0.        ,\n",
       "        0.04139269,  0.07918125,  0.11394335,  0.14612804,  0.17609126,\n",
       "        0.20411998,  0.23044892,  0.25527251,  0.2787536 ,  0.30103   ,\n",
       "        0.32221929,  0.34242268,  0.36172784,  0.38021124,  0.39794001,\n",
       "        0.41497335,  0.43136376,  0.44715803,  0.462398  ,  0.47712125,\n",
       "        0.49136169,  0.50514998,  0.51851394,  0.53147892,  0.54406804,\n",
       "        0.5563025 ,  0.56820172,  0.5797836 ,  0.59106461,  0.60205999,\n",
       "        0.61278386,  0.62324929,  0.63346846,  0.64345268,  0.65321251,\n",
       "        0.66275783,  0.67209786,  0.68124124,  0.69019608,  0.69897   ,\n",
       "        0.70757018,  0.71600334,  0.72427587,  0.73239376,  0.74036269,\n",
       "        0.74818803,  0.75587486,  0.76342799,  0.77085201,  0.77815125,\n",
       "        0.78532984,  0.79239169,  0.79934055,  0.80617997,  0.81291336,\n",
       "        0.81954394,  0.8260748 ,  0.83250891,  0.83884909,  0.84509804,\n",
       "        0.85125835,  0.8573325 ,  0.86332286,  0.86923172,  0.87506126,\n",
       "        0.88081359,  0.88649073,  0.8920946 ,  0.89762709,  0.90308999,\n",
       "        0.90848502,  0.91381385,  0.91907809,  0.92427929,  0.92941893,\n",
       "        0.93449845,  0.93951925,  0.94448267,  0.94939001,  0.95424251,\n",
       "        0.95904139,  0.96378783,  0.96848295,  0.97312785,  0.97772361,\n",
       "        0.98227123,  0.98677173,  0.99122608,  0.99563519])"
      ]
     },
     "execution_count": 89,
     "metadata": {},
     "output_type": "execute_result"
    }
   ],
   "source": [
    "np.log10(b)"
   ]
  },
  {
   "cell_type": "markdown",
   "metadata": {},
   "source": [
    "#### in case of sin, cos, tan you need angle in radians\n"
   ]
  },
  {
   "cell_type": "code",
   "execution_count": 92,
   "metadata": {},
   "outputs": [
    {
     "data": {
      "text/plain": [
       "0.017453292519943295"
      ]
     },
     "execution_count": 92,
     "metadata": {},
     "output_type": "execute_result"
    }
   ],
   "source": [
    "np.pi/180"
   ]
  },
  {
   "cell_type": "code",
   "execution_count": 93,
   "metadata": {},
   "outputs": [],
   "source": [
    "ang_deg = [0, 30, 45, 60, 90]"
   ]
  },
  {
   "cell_type": "code",
   "execution_count": 94,
   "metadata": {},
   "outputs": [
    {
     "data": {
      "text/plain": [
       "array([0.        , 0.52359878, 0.78539816, 1.04719755, 1.57079633])"
      ]
     },
     "execution_count": 94,
     "metadata": {},
     "output_type": "execute_result"
    }
   ],
   "source": [
    "ang_rad = np.radians(ang_deg)\n",
    "ang_rad"
   ]
  },
  {
   "cell_type": "code",
   "execution_count": 95,
   "metadata": {},
   "outputs": [
    {
     "data": {
      "text/plain": [
       "array([0.        , 0.5       , 0.70710678, 0.8660254 , 1.        ])"
      ]
     },
     "execution_count": 95,
     "metadata": {},
     "output_type": "execute_result"
    }
   ],
   "source": [
    "np.sin(ang_rad)"
   ]
  },
  {
   "cell_type": "code",
   "execution_count": 96,
   "metadata": {},
   "outputs": [
    {
     "data": {
      "text/plain": [
       "array([0.00000000e+00, 5.77350269e-01, 1.00000000e+00, 1.73205081e+00,\n",
       "       1.63312394e+16])"
      ]
     },
     "execution_count": 96,
     "metadata": {},
     "output_type": "execute_result"
    }
   ],
   "source": [
    "np.tan(ang_rad)"
   ]
  },
  {
   "cell_type": "code",
   "execution_count": 98,
   "metadata": {},
   "outputs": [
    {
     "data": {
      "text/plain": [
       "array([0.19376909, 0.13234778, 0.63224446, 0.4913036 , 0.29614716,\n",
       "       0.66429093, 0.33063099, 0.46123724, 0.98780642, 0.93438102,\n",
       "       0.818547  , 0.3170031 , 0.95890625, 0.54933107, 0.22347553,\n",
       "       0.36379916, 0.32560103, 0.37484198, 0.6756786 , 0.19294191,\n",
       "       0.56538762, 0.01265458, 0.87378357, 0.29728542, 0.86211895,\n",
       "       0.48133884, 0.44745876, 0.59546707, 0.93734357, 0.48963535,\n",
       "       0.51129743, 0.71734521, 0.92782059, 0.42189572, 0.3526206 ,\n",
       "       0.08620802, 0.81010382, 0.14987186, 0.19023609, 0.13112479,\n",
       "       0.56790784, 0.83731486, 0.9173781 , 0.54968995, 0.55941973,\n",
       "       0.59859513, 0.17359365, 0.92149343, 0.61928201, 0.27269804])"
      ]
     },
     "execution_count": 98,
     "metadata": {},
     "output_type": "execute_result"
    }
   ],
   "source": [
    "d = np.random.random(size=50)\n",
    "d"
   ]
  },
  {
   "cell_type": "code",
   "execution_count": 102,
   "metadata": {},
   "outputs": [
    {
     "data": {
      "text/plain": [
       "array([0.1950026 , 0.13273722, 0.68444674, 0.51358582, 0.30065633,\n",
       "       0.72654479, 0.33697209, 0.47938912, 1.41447329, 1.20651773,\n",
       "       0.95887702, 0.32256794, 1.28312178, 0.58156349, 0.22537873,\n",
       "       0.3723433 , 0.33164733, 0.38422632, 0.74188483, 0.19415952,\n",
       "       0.60090312, 0.01265492, 1.06292884, 0.30184827, 1.03943673,\n",
       "       0.5021815 , 0.46392173, 0.63784691, 1.21492588, 0.5116715 ,\n",
       "       0.53669379, 0.79998438, 1.18852723, 0.43553523, 0.36037012,\n",
       "       0.08631516, 0.94432917, 0.15043867, 0.19140262, 0.13150348,\n",
       "       0.60396179, 0.99235323, 1.16144224, 0.58199304, 0.59368558,\n",
       "       0.64174618, 0.17447755, 1.17190826, 0.66782793, 0.27619625])"
      ]
     },
     "execution_count": 102,
     "metadata": {},
     "output_type": "execute_result"
    }
   ],
   "source": [
    "a1 = np.asin(d)\n",
    "a1"
   ]
  },
  {
   "cell_type": "code",
   "execution_count": 103,
   "metadata": {},
   "outputs": [
    {
     "data": {
      "text/plain": [
       "array([11.17282599,  7.60528246, 39.21590938, 29.42629966, 17.22633898,\n",
       "       41.62795031, 19.30707859, 27.46697338, 81.0433496 , 69.12837356,\n",
       "       54.93960608, 18.48178147, 73.51746274, 33.32113342, 12.91324982,\n",
       "       21.33369982, 19.00199202, 22.01454671, 42.50686976, 11.12452076,\n",
       "       34.42921249,  0.72507324, 60.90133637, 17.294632  , 59.55533777,\n",
       "       28.77288023, 26.58075698, 36.54593578, 69.61012538, 29.31661734,\n",
       "       30.7502893 , 45.83572843, 68.09759413, 24.95433049, 20.64768676,\n",
       "        4.94549452, 54.10607594,  8.61950082, 10.96656254,  7.53459438,\n",
       "       34.6044617 , 56.85765205, 66.54573865, 33.34574466, 34.01567785,\n",
       "       36.76934762,  9.99682734, 67.14539738, 38.26372193, 15.82487945])"
      ]
     },
     "execution_count": 103,
     "metadata": {},
     "output_type": "execute_result"
    }
   ],
   "source": [
    "np.degrees(a1)"
   ]
  },
  {
   "cell_type": "code",
   "execution_count": 104,
   "metadata": {},
   "outputs": [
    {
     "data": {
      "text/plain": [
       "array([1.37579373, 1.43805911, 0.88634959, 1.05721051, 1.27013999,\n",
       "       0.84425153, 1.23382424, 1.09140721, 0.15632304, 0.3642786 ,\n",
       "       0.61191931, 1.24822839, 0.28767454, 0.98923284, 1.3454176 ,\n",
       "       1.19845302, 1.239149  , 1.18657   , 0.82891149, 1.37663681,\n",
       "       0.96989321, 1.55814141, 0.50786749, 1.26894806, 0.5313596 ,\n",
       "       1.06861483, 1.1068746 , 0.93294942, 0.35587045, 1.05912483,\n",
       "       1.03410253, 0.77081195, 0.3822691 , 1.1352611 , 1.21042621,\n",
       "       1.48448116, 0.62646716, 1.42035766, 1.3793937 , 1.43929285,\n",
       "       0.96683453, 0.57844309, 0.40935408, 0.98880329, 0.97711075,\n",
       "       0.92905015, 1.39631877, 0.39888806, 0.9029684 , 1.29460008])"
      ]
     },
     "execution_count": 104,
     "metadata": {},
     "output_type": "execute_result"
    }
   ],
   "source": [
    "np.acos(d)"
   ]
  },
  {
   "cell_type": "code",
   "execution_count": 105,
   "metadata": {},
   "outputs": [
    {
     "data": {
      "text/plain": [
       "array([0.        , 0.48234791, 0.66577375, 0.80844879, 1.00388482])"
      ]
     },
     "execution_count": 105,
     "metadata": {},
     "output_type": "execute_result"
    }
   ],
   "source": [
    "np.atan(ang_rad)"
   ]
  },
  {
   "cell_type": "code",
   "execution_count": null,
   "metadata": {},
   "outputs": [],
   "source": []
  }
 ],
 "metadata": {
  "kernelspec": {
   "display_name": "Python 3",
   "language": "python",
   "name": "python3"
  },
  "language_info": {
   "codemirror_mode": {
    "name": "ipython",
    "version": 3
   },
   "file_extension": ".py",
   "mimetype": "text/x-python",
   "name": "python",
   "nbconvert_exporter": "python",
   "pygments_lexer": "ipython3",
   "version": "3.12.1"
  }
 },
 "nbformat": 4,
 "nbformat_minor": 2
}
